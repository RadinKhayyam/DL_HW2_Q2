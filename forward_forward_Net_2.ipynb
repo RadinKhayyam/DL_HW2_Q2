{
  "cells": [
    {
      "cell_type": "markdown",
      "metadata": {
        "id": "V4qMOMq0GzIE"
      },
      "source": [
        "**Deep Learning course - Sharif University of Technology - EE Department**\n",
        "\n",
        "**HW2 - Q2**\n",
        "\n",
        "**this code is developed based on this github repository: **\n",
        "\n",
        "https://github.com/cozheyuanzhangde/Forward-Forward"
      ]
    },
    {
      "cell_type": "code",
      "execution_count": 49,
      "metadata": {
        "colab": {
          "base_uri": "https://localhost:8080/"
        },
        "id": "Nch-9SyDNvNz",
        "outputId": "b603b25d-a550-4938-a907-04753c156f80"
      },
      "outputs": [
        {
          "output_type": "stream",
          "name": "stdout",
          "text": [
            "your student id: 99101579\n",
            "your name: Radin Khayyam\n"
          ]
        }
      ],
      "source": [
        "student_id =  99101579\n",
        "student_name = 'Radin Khayyam'\n",
        "\n",
        "print(\"your student id:\", student_id)\n",
        "print(\"your name:\", student_name)"
      ]
    },
    {
      "cell_type": "code",
      "execution_count": 50,
      "metadata": {
        "id": "OHKna2kIZXV6"
      },
      "outputs": [],
      "source": [
        "import torch\n",
        "from torchvision.datasets import MNIST\n",
        "from torchvision.transforms import Compose, ToTensor, Normalize, Lambda\n",
        "from torch.utils.data import DataLoader\n",
        "import torch.nn as nn\n",
        "from tqdm import tqdm\n",
        "from torch.optim import Adam\n",
        "import matplotlib.pyplot as plt\n",
        "from torch.utils.data import DataLoader, Subset\n",
        "import matplotlib.pyplot as plt\n",
        "from sklearn.metrics import accuracy_score\n",
        "import numpy as np\n",
        "from scipy.signal import convolve2d\n",
        "from torch import tensor, Tensor\n",
        "\n"
      ]
    },
    {
      "cell_type": "code",
      "execution_count": 51,
      "metadata": {
        "id": "PPsPg3uCZkHo"
      },
      "outputs": [],
      "source": [
        "def MNIST_loaders(train_batch_size=50000, test_batch_size=10000):\n",
        "\n",
        "    # Define data transformations\n",
        "    # we used torch.flatten to reshape 28*28 pics to a 784*1 vector\n",
        "    transform = Compose([ToTensor(), Lambda(lambda x: torch.flatten(x))])\n",
        "\n",
        "    # Create training data loader\n",
        "    train_dataset = MNIST('./data/', train=True, download=True, transform=transform)\n",
        "    train_loader = DataLoader(train_dataset, batch_size=train_batch_size, shuffle=True)\n",
        "\n",
        "    # Create test data loader\n",
        "    test_dataset = MNIST('./data/', train=False, download=True, transform=transform)\n",
        "    test_loader = DataLoader(test_dataset, batch_size=test_batch_size, shuffle=False)\n",
        "\n",
        "    return train_loader, test_loader\n"
      ]
    },
    {
      "cell_type": "markdown",
      "metadata": {
        "id": "jIzdFA6QX8U2"
      },
      "source": [
        "**Supervised method:**"
      ]
    },
    {
      "cell_type": "code",
      "execution_count": 52,
      "metadata": {
        "id": "WqSXyiIgZthe"
      },
      "outputs": [],
      "source": [
        "# Generate positive data\n",
        "# We put correct label on first 10 pixels of data for this part\n",
        "def gen_pos_data(x, y):\n",
        "    labeled_data = x.clone()\n",
        "    labeled_data[:,0:10] = 0\n",
        "    if(type(y)==int):\n",
        "      for i in range(x.shape[0]):\n",
        "        labeled_data [i , y] = 1.0\n",
        "    else:\n",
        "      for i in range(x.shape[0]):\n",
        "        labeled_data [i , y[i]] = 1.0\n",
        "\n",
        "    return labeled_data"
      ]
    },
    {
      "cell_type": "code",
      "execution_count": 53,
      "metadata": {
        "id": "-mQ9XrPrwnGm"
      },
      "outputs": [],
      "source": [
        "# Generate negative data\n",
        "# We put random wrong label on first 10 pixels of data for this part\n",
        "def gen_neg_data(x,y):\n",
        "    labeled_data = x.clone()\n",
        "    labeled_data[:,0:10] = 0\n",
        "    rand_idx = torch.randperm(x.size(0))\n",
        "    y_rand = y[rand_idx]\n",
        "    for i in range(x.shape[0]):\n",
        "      labeled_data [i , y_rand[i]] = 1.0\n",
        "\n",
        "    return labeled_data"
      ]
    },
    {
      "cell_type": "markdown",
      "metadata": {
        "id": "t245gBQWHL17"
      },
      "source": [
        "in this section we show an example what we did in generating positive and negative data from original data.\n",
        "As you can see, in positive data we put the right label in first 10 pixels, but in negative data we put another random label in these pixels."
      ]
    },
    {
      "cell_type": "code",
      "execution_count": 54,
      "metadata": {
        "colab": {
          "base_uri": "https://localhost:8080/",
          "height": 304
        },
        "id": "dBLzLL5hHKim",
        "outputId": "3d80d7e2-f29f-4f9d-dcfa-ad7c593af454"
      },
      "outputs": [
        {
          "output_type": "execute_result",
          "data": {
            "text/plain": [
              "Text(0.5, 1.0, 'Negative Data')"
            ]
          },
          "metadata": {},
          "execution_count": 54
        },
        {
          "output_type": "display_data",
          "data": {
            "text/plain": [
              "<Figure size 1000x700 with 3 Axes>"
            ],
            "image/png": "[encoded data removed]"
          },
          "metadata": {}
        }
      ],
      "source": [
        "train_loader, test_loader = MNIST_loaders()\n",
        "x, y = next(iter(train_loader))\n",
        "x_pos_sample = gen_pos_data(x, y)[0]\n",
        "x_neg_sample = gen_neg_data(x, y)[0]\n",
        "reshaped_org = x[0].cpu().reshape(28, 28)\n",
        "reshaped_pos = x_pos_sample.cpu().reshape(28, 28)\n",
        "reshaped_neg = x_neg_sample.cpu().reshape(28, 28)\n",
        "\n",
        "fig = plt.figure(figsize=(10, 7))\n",
        "\n",
        "fig.add_subplot(1, 3, 1)\n",
        "plt.imshow(reshaped_org, cmap=\"gray\")\n",
        "plt.axis('off')\n",
        "plt.title(\"Original Data\")\n",
        "\n",
        "fig.add_subplot(1, 3, 2)\n",
        "plt.imshow(reshaped_pos, cmap=\"gray\")\n",
        "plt.axis('off')\n",
        "plt.title(\"Positive Data\")\n",
        "\n",
        "fig.add_subplot(1, 3, 3)\n",
        "plt.imshow(reshaped_neg, cmap=\"gray\")\n",
        "plt.axis('off')\n",
        "plt.title(\"Negative Data\")"
      ]
    },
    {
      "cell_type": "markdown",
      "metadata": {
        "id": "mWUSIfaOH5mY"
      },
      "source": [
        "Now we need to create FF_Net and FF_Layer classes to build the Network and implement the Forward-Forward algorithm.\n",
        "We implemented a neural network with two hidden layer, first one has 512 neurons and the second one has 256 neurons.\n",
        "In predict part we generate labeled images with every 10 labels, then we calculate total goodness of layers with this labeled image, in the final step we choose label which maximize total goodness as prediction result."
      ]
    },
    {
      "cell_type": "code",
      "execution_count": 55,
      "metadata": {
        "id": "STnJvm3WZxn_"
      },
      "outputs": [],
      "source": [
        "# Define a Feedforward Neural Network class that inherits from torch.nn.Module\n",
        "class FF_Net(torch.nn.Module):\n",
        "\n",
        "    # Constructor method\n",
        "    def __init__(self):\n",
        "        super().__init__()\n",
        "\n",
        "        # Initialize layers list\n",
        "        self.layers = []\n",
        "\n",
        "        # Add two fully connected layers to the network architecture\n",
        "        # with input size 784, output size 512, and 512 to 256, both on GPU\n",
        "        self.layers.append(FF_Layer(784, 512).cuda())\n",
        "        self.layers.append(FF_Layer(512, 256).cuda())\n",
        "\n",
        "    # Prediction method for the network\n",
        "    def predict(self, x):\n",
        "        # List to store goodness for each label\n",
        "        labels_goodness = []\n",
        "\n",
        "        # Loop through each label (0 to 9)\n",
        "        for label in range(10):\n",
        "            # Generate positive data for the current label\n",
        "            output = gen_pos_data(x, label)\n",
        "            total_goodness = 0\n",
        "\n",
        "            # Iterate through layers and calculate goodness\n",
        "            for layer in self.layers:\n",
        "                output = layer(output)\n",
        "                total_goodness += self.compute_goodness(output)\n",
        "\n",
        "            # Append total goodness for the current label\n",
        "            labels_goodness.append(total_goodness.unsqueeze(1))\n",
        "\n",
        "        # Concatenate goodness values for each label\n",
        "        labels_goodness = torch.cat(labels_goodness, 1)\n",
        "\n",
        "        # Determine the label with the maximum goodness\n",
        "        predicted_label = labels_goodness.argmax(1)\n",
        "\n",
        "        # Return the predicted label\n",
        "        return predicted_label\n",
        "\n",
        "    # Training method for the network\n",
        "    def train(self, x_pos, x_neg):\n",
        "        # Initialize positive and negative data\n",
        "        h_pos, h_neg = x_pos, x_neg\n",
        "\n",
        "        # Iterate through layers for training\n",
        "        for i, layer in enumerate(self.layers):\n",
        "            print('training layer', i, '...')\n",
        "            h_pos, h_neg = layer.train(h_pos, h_neg)\n",
        "\n",
        "    # Compute goodness method\n",
        "    def compute_goodness(self, model_output):\n",
        "        # Calculate goodness as the mean of squared values along the second dimension\n",
        "        goodness = torch.mean(model_output.pow(2), dim=1)\n",
        "        return goodness\n",
        "\n",
        "\n"
      ]
    },
    {
      "cell_type": "markdown",
      "metadata": {
        "id": "zBXCyTEIL3kb"
      },
      "source": [
        "in this part we have two important function, the first one is forward in which we perform forward pass of layer. we used relu as activation function. second function is train, in this function firstly we derived goodness of positive and negative data, then we used a custom loss function as mentioned in question.\n",
        "**this loss function is suitable for this algorithm because \"the aim of the learning is to make the goodness be well above some thereshold value for real data and well below that value for negative data\". in the paper probability of positive data is defined as: $$p(positive) = \\sigma \\big(\\sum_j y_j^2 - \\theta \\big) $$\n",
        "this loss function is equal to calculate binary cross entropy using this probability function.\n",
        "in the last part, with using of gradient decent we updated the parameters in a way that minimizing loss function of this layer it self."
      ]
    },
    {
      "cell_type": "code",
      "execution_count": 56,
      "metadata": {
        "id": "28OjaoqJaBaN"
      },
      "outputs": [],
      "source": [
        "class FF_Layer(nn.Linear):\n",
        "    def __init__(self, in_features, out_features,\n",
        "                 bias=True, device=None, dtype=None):\n",
        "        super().__init__(in_features, out_features, bias, device, dtype)\n",
        "        self.relu = torch.nn.ReLU()\n",
        "        self.opt = Adam(self.parameters(), lr=0.03)\n",
        "        self.num_epochs = 1500\n",
        "        self.threshold = 4.0\n",
        "\n",
        "    def forward(self, x):\n",
        "        # Normalize input along the second dimension (row-wise) to have unit L2 norm\n",
        "        x_normalized = x / (x.norm(2, dim=1, keepdim=True) + 1e-6)\n",
        "\n",
        "        # Perform linear transformation and add bias\n",
        "        linear_output = torch.mm(x_normalized, self.weight.T) + self.bias.unsqueeze(0)\n",
        "\n",
        "        # Apply ReLU activation function\n",
        "        activated_output = self.relu(linear_output)\n",
        "\n",
        "        return activated_output\n",
        "\n",
        "    def train(self, x_pos, x_neg):\n",
        "        for i in tqdm(range(self.num_epochs)):\n",
        "            # Compute goodness of positive and negative data\n",
        "            model_output = self.forward(x_pos)\n",
        "            g_pos = self.compute_goodness(model_output)\n",
        "            model_output = self.forward(x_neg)\n",
        "            g_neg = self.compute_goodness(model_output)\n",
        "\n",
        "            # Compute Loss function\n",
        "            loss = self.compute_loss(g_pos, g_neg)\n",
        "\n",
        "            # optimization step\n",
        "            self.optimize(loss)\n",
        "\n",
        "        # Return the forward pass results for positive and negative data\n",
        "        return self.forward(x_pos).detach(), self.forward(x_neg).detach()\n",
        "\n",
        "    def compute_goodness(self, model_output):\n",
        "        goodness = torch.mean(model_output.pow(2), dim=1)\n",
        "        return goodness\n",
        "\n",
        "    def compute_loss(self, g_pos, g_neg):\n",
        "        loss = torch.log(1 + torch.exp(torch.cat([self.threshold - g_pos, g_neg - self.threshold]))).mean()\n",
        "        return loss\n",
        "\n",
        "    def optimize(self, loss):\n",
        "        self.opt.zero_grad()\n",
        "        loss.backward()\n",
        "        self.opt.step()"
      ]
    },
    {
      "cell_type": "markdown",
      "metadata": {
        "id": "W0Ehk9eSXArN"
      },
      "source": [
        "Now we want to evaluate the algorithm by training the Mnist data set on it. As you can see the results are acceptable."
      ]
    },
    {
      "cell_type": "code",
      "execution_count": null,
      "metadata": {
        "colab": {
          "base_uri": "https://localhost:8080/"
        },
        "id": "2PTDW83maCk7",
        "outputId": "71d36ede-8222-4cbc-9ea0-93e5352ea881"
      },
      "outputs": [
        {
          "name": "stdout",
          "output_type": "stream",
          "text": [
            "training layer 0 ...\n"
          ]
        },
        {
          "name": "stderr",
          "output_type": "stream",
          "text": [
            "100%|██████████| 1500/1500 [01:19<00:00, 18.76it/s]\n"
          ]
        },
        {
          "name": "stdout",
          "output_type": "stream",
          "text": [
            "training layer 1 ...\n"
          ]
        },
        {
          "name": "stderr",
          "output_type": "stream",
          "text": [
            "100%|██████████| 1500/1500 [00:31<00:00, 48.22it/s]\n"
          ]
        },
        {
          "name": "stdout",
          "output_type": "stream",
          "text": [
            "Train accuracy: 0.9328199625015259\n",
            "Train error: 0.06718003749847412\n"
          ]
        },
        {
          "name": "stderr",
          "output_type": "stream",
          "text": [
            "<ipython-input-13-4ca4d7af3f27>:22: UserWarning: To copy construct from a tensor, it is recommended to use sourceTensor.clone().detach() or sourceTensor.clone().detach().requires_grad_(True), rather than torch.tensor(sourceTensor).\n",
            "  train_accuracy = (torch.tensor(net.predict(x_train)) == y_train).float().mean().item()\n"
          ]
        }
      ],
      "source": [
        "# Set a manual seed for reproducibility\n",
        "torch.manual_seed(23)\n",
        "\n",
        "# Load MNIST data into train and test loaders\n",
        "train_loader, test_loader = MNIST_loaders()\n",
        "\n",
        "# Create an instance of the FF_Net class\n",
        "net = FF_Net()\n",
        "\n",
        "# Load a batch of training data and move it to the GPU\n",
        "x_train, y_train = next(iter(train_loader))\n",
        "x_train, y_train = x_train.cuda(), y_train.cuda()\n",
        "\n",
        "# Generate positive and negative data for training\n",
        "x_pos = gen_pos_data(x_train, y_train)\n",
        "x_neg = gen_neg_data(x_train, y_train)\n",
        "\n",
        "# Train the neural network on the generated data\n",
        "net.train(x_pos, x_neg)\n",
        "\n",
        "# Evaluate the training accuracy and error\n",
        "train_accuracy = (torch.tensor(net.predict(x_train)) == y_train).float().mean().item()\n",
        "print(f'Train accuracy: {train_accuracy}')\n",
        "\n",
        "train_error = 1.0 - train_accuracy\n",
        "print(f'Train error: {train_error}')"
      ]
    },
    {
      "cell_type": "code",
      "execution_count": null,
      "metadata": {
        "colab": {
          "base_uri": "https://localhost:8080/"
        },
        "id": "i3OSnjQIusTL",
        "outputId": "bd878533-6673-4ce7-a59a-ea507009c6a1"
      },
      "outputs": [
        {
          "name": "stdout",
          "output_type": "stream",
          "text": [
            "Test accuracy: 0.9319999814033508\n",
            "Test error: 0.06800001859664917\n"
          ]
        }
      ],
      "source": [
        "# Load a batch of test data and move it to the GPU\n",
        "x_test, y_test = next(iter(test_loader))\n",
        "x_test, y_test = x_test.cuda(), y_test.cuda()\n",
        "\n",
        "# Evaluate the test accuracy and error\n",
        "test_accuracy = net.predict(x_test).eq(y_test).float().mean().item()\n",
        "print(f'Test accuracy: {test_accuracy}')\n",
        "\n",
        "test_error = 1.0 - test_accuracy\n",
        "print(f'Test error: {test_error}')"
      ]
    },
    {
      "cell_type": "markdown",
      "metadata": {
        "id": "DyugDFgJhAww"
      },
      "source": [
        "**Unsupervised method:**"
      ]
    },
    {
      "cell_type": "code",
      "execution_count": 57,
      "metadata": {
        "id": "5Nvq564kicMc"
      },
      "outputs": [],
      "source": [
        "import torch.nn.functional as F\n",
        "\n",
        "def gen_mask(shape, itr = 10):\n",
        "\n",
        "    # Create filters as mentioned in paper\n",
        "    filter_1 = torch.tensor(((0, 0, 0), (0.25, 0.5, 0.25), (0, 0, 0)), dtype=torch.float32)\n",
        "    filter_2 = filter_1.T\n",
        "\n",
        "    # Create a random binary image as a PyTorch tensor\n",
        "    image = torch.randint(0, 2, size=shape, dtype=torch.float32)\n",
        "\n",
        "    # Blur the image with the specified filter\n",
        "    for i in range(itr):\n",
        "        image = torch.abs(F.conv2d(image.unsqueeze(0).unsqueeze(0), filter_1.unsqueeze(0).unsqueeze(0), padding=1)[0][0] / filter_1.sum())\n",
        "        image = torch.abs(F.conv2d(image.unsqueeze(0).unsqueeze(0), filter_2.unsqueeze(0).unsqueeze(0), padding=1)[0][0] / filter_2.sum())\n",
        "\n",
        "    # Binarize the blurred image, i.e., threshold it at 0.5\n",
        "    mask = torch.round(image).byte()\n",
        "\n",
        "    return mask\n"
      ]
    },
    {
      "cell_type": "code",
      "execution_count": 70,
      "metadata": {
        "id": "CQxFgRLJiivs"
      },
      "outputs": [],
      "source": [
        "def gen_neg_img(image_1, image_2):\n",
        "\n",
        "    # Create a binary mask\n",
        "    mask = gen_mask(image_1.shape)\n",
        "\n",
        "    # Element-wise multiplication with the mask\n",
        "    masked_image_1 = image_1 * mask\n",
        "    masked_image_2 = image_2 * (1 - mask)\n",
        "\n",
        "    # Element-wise addition of masked images\n",
        "    result_image = masked_image_1 + masked_image_2\n",
        "\n",
        "    return result_image"
      ]
    },
    {
      "cell_type": "markdown",
      "source": [
        "In this part we want to show one example of how negative data are constructed."
      ],
      "metadata": {
        "id": "z---1Q08gNZz"
      }
    },
    {
      "cell_type": "code",
      "execution_count": 72,
      "metadata": {
        "colab": {
          "base_uri": "https://localhost:8080/",
          "height": 169
        },
        "id": "065fjmrWiyAi",
        "outputId": "da177336-5384-4062-e8a7-f4d9174c6110"
      },
      "outputs": [
        {
          "output_type": "display_data",
          "data": {
            "text/plain": [
              "<Figure size 640x480 with 5 Axes>"
            ],
            "image/png": "[encoded data removed]"
          },
          "metadata": {}
        }
      ],
      "source": [
        "# Load the MNIST dataset\n",
        "train_loader, test_loader = MNIST_loaders()\n",
        "x, y = next(iter(train_loader))\n",
        "\n",
        "# Reshape data from flatten to 28*28\n",
        "images = torch.reshape(x, (x.shape[0],28,28))\n",
        "\n",
        "# Get two random images from training data\n",
        "image_1 = images[np.random.randint(len(images))]\n",
        "image_2 = images[np.random.randint(len(images))]\n",
        "\n",
        "# Generate a random mask\n",
        "mask = gen_mask((28, 28))\n",
        "\n",
        "# Generating a negative input using mask and two random images\n",
        "image = gen_neg_img(image_1, image_2)\n",
        "\n",
        "# Show the results\n",
        "images = [image_1, mask, image, 1-mask, image_2]\n",
        "names = [\"image 1\", \"mask\", \"negative data\", \"1-mask\", \"image 2\"]\n",
        "\n",
        "fig, axes = plt.subplots(1, 5)\n",
        "\n",
        "for ax, image, name in zip(axes, images, names):\n",
        "    ax.imshow(image, cmap='gray')\n",
        "    ax.axis('off')\n",
        "    ax.set_title(name)\n",
        "\n",
        "plt.tight_layout()\n",
        "plt.show()\n"
      ]
    },
    {
      "cell_type": "markdown",
      "source": [
        "Now in this block we generated all negative data"
      ],
      "metadata": {
        "id": "1YrQtiTCjXC6"
      }
    },
    {
      "cell_type": "code",
      "source": [
        "def gen_neg_data_unsupervised(images):\n",
        "    neg_images = []\n",
        "\n",
        "    # Get the batch size\n",
        "    batch_size = images.shape[0]\n",
        "\n",
        "    # Generate negative images by combining random pairs\n",
        "    for _ in range(batch_size):\n",
        "        idx1, idx2 = torch.randint(0, batch_size, size=(2,))\n",
        "        neg_images.append(gen_neg_img(images[idx1].squeeze(), images[idx2].squeeze()))\n",
        "\n",
        "    # Stack the negative images into a single tensor and add a channel dimension\n",
        "    neg_images = torch.unsqueeze(torch.stack(neg_images), dim=1)\n",
        "\n",
        "    return neg_images"
      ],
      "metadata": {
        "id": "Hf4YV_Mcj8LJ"
      },
      "execution_count": 64,
      "outputs": []
    },
    {
      "cell_type": "markdown",
      "source": [
        "In this block we define a new class to make the structure of out neural network to train and predict the data."
      ],
      "metadata": {
        "id": "S-0D-o3dtP7w"
      }
    },
    {
      "cell_type": "code",
      "source": [
        "# Define a Feedforward Neural Network class that inherits from torch.nn.Module\n",
        "class FF_Net_Unsupervised(torch.nn.Module):\n",
        "\n",
        "    # Constructor method\n",
        "    def __init__(self):\n",
        "        super().__init__()\n",
        "\n",
        "        # Initialize layers list\n",
        "        self.layers = []\n",
        "\n",
        "        # Add two fully connected layers to the network architecture\n",
        "        # with input size 784, output size 512, and 512 to 256, both on GPU\n",
        "        self.layers.append(FF_Layer(784, 512).cuda())\n",
        "        self.layers.append(FF_Layer(512, 256).cuda())\n",
        "\n",
        "    # Prediction method for the network\n",
        "    def predict(self, x):\n",
        "        # List to store goodness for each label\n",
        "        labels_goodness = []\n",
        "\n",
        "        # Loop through each label (0 to 9)\n",
        "        for label in range(10):\n",
        "            # Generate positive data for the current label\n",
        "            output = gen_pos_data(x, label)\n",
        "            total_goodness = 0\n",
        "\n",
        "            # Iterate through layers and calculate goodness\n",
        "            for layer in self.layers:\n",
        "                output = layer(output)\n",
        "\n",
        "\n",
        "        # Return the predicted label\n",
        "        return output\n",
        "\n",
        "    # Training method for the network\n",
        "    def train(self, x_pos, x_neg):\n",
        "        # Initialize positive and negative data\n",
        "        h_pos, h_neg = x_pos, x_neg\n",
        "\n",
        "        # Iterate through layers for training\n",
        "        for i, layer in enumerate(self.layers):\n",
        "            print('training layer', i, '...')\n",
        "            h_pos, h_neg = layer.train(h_pos, h_neg)\n",
        "\n",
        "    # Compute goodness method\n",
        "    def compute_goodness(self, model_output):\n",
        "        # Calculate goodness as the mean of squared values along the second dimension\n",
        "        goodness = torch.mean(model_output.pow(2), dim=1)\n",
        "        return goodness"
      ],
      "metadata": {
        "id": "tSLUqdvEtH6j"
      },
      "execution_count": 110,
      "outputs": []
    },
    {
      "cell_type": "code",
      "source": [
        "# Set a manual seed for reproducibility\n",
        "torch.manual_seed(23)\n",
        "\n",
        "# Load MNIST data into train and test loaders\n",
        "train_loader, test_loader = MNIST_loaders()\n",
        "\n",
        "# Create an instance of the FF_Net class\n",
        "net = FF_Net_Unsupervised()\n",
        "\n",
        "# Load a batch of training data and move it to the GPU\n",
        "x_train, y_train = next(iter(train_loader))\n",
        "\n",
        "# Reshape data from flatten to 28*28\n",
        "x_train = torch.reshape(x_train, (x_train.shape[0],28,28))\n",
        "\n",
        "# Generate positive and negative data for training\n",
        "x_pos = x_train\n",
        "x_neg = gen_neg_data_unsupervised(x_train)\n",
        "\n",
        "# Flatten the images\n",
        "x_train = torch.reshape(x_train, (x_train.shape[0],784))\n",
        "x_pos = torch.reshape(x_pos, (x_pos.shape[0],784))\n",
        "x_neg = torch.reshape(x_neg, (x_neg.shape[0],784))\n"
      ],
      "metadata": {
        "id": "22d4BA4DcOYU"
      },
      "execution_count": 80,
      "outputs": []
    },
    {
      "cell_type": "code",
      "source": [
        "# Train the network\n",
        "x_pos = x_pos.cuda()\n",
        "x_neg = x_neg.cuda()\n",
        "\n",
        "net.train(x_pos, x_neg)\n",
        "\n",
        "x_train = x_train.cuda()\n",
        "\n",
        "# output of two hidden layer after training\n",
        "output_FF = net.predict(x_train)"
      ],
      "metadata": {
        "colab": {
          "base_uri": "https://localhost:8080/"
        },
        "id": "1WlfqFMWw4_9",
        "outputId": "eac60c3d-9f79-46b6-919d-3dd7f077a666"
      },
      "execution_count": 81,
      "outputs": [
        {
          "output_type": "stream",
          "name": "stdout",
          "text": [
            "training layer 0 ...\n"
          ]
        },
        {
          "output_type": "stream",
          "name": "stderr",
          "text": [
            "100%|██████████| 1500/1500 [01:33<00:00, 15.97it/s]\n"
          ]
        },
        {
          "output_type": "stream",
          "name": "stdout",
          "text": [
            "training layer 1 ...\n"
          ]
        },
        {
          "output_type": "stream",
          "name": "stderr",
          "text": [
            "100%|██████████| 1500/1500 [00:34<00:00, 43.69it/s]\n"
          ]
        }
      ]
    },
    {
      "cell_type": "markdown",
      "source": [
        "The output of our FF network for each of the traing data is a feature vector with size of 256, we hope this features are useful to classify data using a linear classifier in next part .now we need define a linear classifier to clasify the data."
      ],
      "metadata": {
        "id": "SZhSBBj4zwpL"
      }
    },
    {
      "cell_type": "code",
      "source": [
        "import torch.optim as optim\n",
        "\n",
        "# Move data to GPU if available\n",
        "device = torch.device(\"cuda:0\" if torch.cuda.is_available() else \"cpu\")\n",
        "output_FF = output_FF.to(device)\n",
        "y_train = y_train.to(device)\n",
        "\n",
        "# Define a linear classifier\n",
        "class LinearClassifier(nn.Module):\n",
        "    def __init__(self, input_size, num_classes):\n",
        "        super(LinearClassifier, self).__init__()\n",
        "        self.linear = nn.Linear(input_size, num_classes)\n",
        "\n",
        "    def forward(self, x):\n",
        "        return self.linear(x)\n",
        "\n",
        "# Create an instance of the linear classifier\n",
        "input_size = 256\n",
        "num_classes = 10\n",
        "classifier = LinearClassifier(input_size, num_classes)\n",
        "classifier = classifier.to(device)  # Move model to GPU if available\n",
        "\n",
        "# Define the loss function and optimizer\n",
        "criterion = nn.CrossEntropyLoss()\n",
        "optimizer = optim.Adam(classifier.parameters(), lr=0.01)\n",
        "\n",
        "# Training loop\n",
        "num_epochs = 1000\n",
        "\n",
        "for epoch in range(num_epochs):\n",
        "    # Forward pass\n",
        "    outputs = classifier(output_FF)\n",
        "\n",
        "    # Compute the loss\n",
        "    loss = criterion(outputs, y_train)\n",
        "\n",
        "    # Backward pass and optimization\n",
        "    optimizer.zero_grad()\n",
        "    loss.backward()\n",
        "    optimizer.step()\n",
        "\n",
        "    # Print the loss every 100 epochs\n",
        "    if (epoch + 1) % 100 == 0:\n",
        "        print(f'Epoch [{epoch+1}/{num_epochs}], Loss: {loss.item():.4f}')\n",
        "\n",
        "\n"
      ],
      "metadata": {
        "colab": {
          "base_uri": "https://localhost:8080/"
        },
        "id": "RiTrXj2E3bIv",
        "outputId": "cb818d22-566c-435f-a23e-3dd05d022023"
      },
      "execution_count": 107,
      "outputs": [
        {
          "output_type": "stream",
          "name": "stdout",
          "text": [
            "Epoch [100/1000], Loss: 2.2793\n",
            "Epoch [200/1000], Loss: 2.2793\n",
            "Epoch [300/1000], Loss: 2.2793\n",
            "Epoch [400/1000], Loss: 2.2793\n",
            "Epoch [500/1000], Loss: 2.2793\n",
            "Epoch [600/1000], Loss: 2.2793\n",
            "Epoch [700/1000], Loss: 2.2793\n",
            "Epoch [800/1000], Loss: 2.2793\n",
            "Epoch [900/1000], Loss: 2.2793\n",
            "Epoch [1000/1000], Loss: 2.2793\n"
          ]
        }
      ]
    },
    {
      "cell_type": "markdown",
      "source": [
        "Now we want to calculate the test accuracy."
      ],
      "metadata": {
        "id": "o2FD2Yn27flh"
      }
    },
    {
      "cell_type": "code",
      "source": [
        "x_test, y_test = next(iter(test_loader))\n",
        "x_test, y_test = x_test.cuda(), y_test.cuda()\n",
        "\n",
        "output_FF = net.predict(x_test)\n",
        "\n",
        "outputs = classifier(output_FF)\n",
        "_, predicted = torch.max(outputs, 1)\n",
        "accuracy = (predicted == y_test.to(device)).float().mean()\n",
        "print(f'Test Accuracy: {accuracy.item():.4f}')"
      ],
      "metadata": {
        "colab": {
          "base_uri": "https://localhost:8080/"
        },
        "id": "SYSb872F7e_F",
        "outputId": "9ed0f37b-ea0a-424e-80ba-b967b06bf323"
      },
      "execution_count": 111,
      "outputs": [
        {
          "output_type": "stream",
          "name": "stdout",
          "text": [
            "Test Accuracy: 0.0847\n"
          ]
        }
      ]
    },
    {
      "cell_type": "markdown",
      "source": [],
      "metadata": {
        "id": "WUKqAQipz469"
      }
    }
  ],
  "metadata": {
    "accelerator": "GPU",
    "colab": {
      "provenance": []
    },
    "kernelspec": {
      "display_name": "Python 3",
      "name": "python3"
    },
    "language_info": {
      "name": "python"
    }
  },
  "nbformat": 4,
  "nbformat_minor": 0
}