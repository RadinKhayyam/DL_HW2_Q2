{
  "nbformat": 4,
  "nbformat_minor": 0,
  "metadata": {
    "colab": {
      "provenance": [],
      "gpuType": "T4"
    },
    "kernelspec": {
      "name": "python3",
      "display_name": "Python 3"
    },
    "language_info": {
      "name": "python"
    },
    "accelerator": "GPU"
  },
  "cells": [
    {
      "cell_type": "code",
      "execution_count": 1,
      "metadata": {
        "colab": {
          "base_uri": "https://localhost:8080/"
        },
        "id": "Nch-9SyDNvNz",
        "outputId": "91f62899-b919-49bc-b430-f26215774b58"
      },
      "outputs": [
        {
          "output_type": "stream",
          "name": "stdout",
          "text": [
            "your student id: 99101579\n",
            "your name: Radin Khayyam\n"
          ]
        }
      ],
      "source": [
        "student_id =  99101579\n",
        "student_name = 'Radin Khayyam'\n",
        "\n",
        "print(\"your student id:\", student_id)\n",
        "print(\"your name:\", student_name)"
      ]
    },
    {
      "cell_type": "code",
      "source": [
        "import torch\n",
        "from torchvision.datasets import MNIST\n",
        "from torchvision.transforms import Compose, ToTensor, Normalize, Lambda\n",
        "from torch.utils.data import DataLoader\n",
        "import torch.nn as nn\n",
        "from tqdm import tqdm\n",
        "from torch.optim import Adam\n",
        "import matplotlib.pyplot as plt\n"
      ],
      "metadata": {
        "id": "OHKna2kIZXV6"
      },
      "execution_count": 2,
      "outputs": []
    },
    {
      "cell_type": "code",
      "source": [
        "def MNIST_loaders(train_batch_size=50000, test_batch_size=10000):\n",
        "\n",
        "    # Define data transformations\n",
        "    # we used torch.flatten to reshape 28*28 pics to a 784*1 vector\n",
        "    transform = Compose([ToTensor(), Lambda(lambda x: torch.flatten(x))])\n",
        "\n",
        "    # Create training data loader\n",
        "    train_dataset = MNIST('./data/', train=True, download=True, transform=transform)\n",
        "    train_loader = DataLoader(train_dataset, batch_size=train_batch_size, shuffle=True)\n",
        "\n",
        "    # Create test data loader\n",
        "    test_dataset = MNIST('./data/', train=False, download=True, transform=transform)\n",
        "    test_loader = DataLoader(test_dataset, batch_size=test_batch_size, shuffle=False)\n",
        "\n",
        "    return train_loader, test_loader\n"
      ],
      "metadata": {
        "id": "PPsPg3uCZkHo"
      },
      "execution_count": 3,
      "outputs": []
    },
    {
      "cell_type": "code",
      "source": [
        "# Generate positive data\n",
        "# We put correct label on first 10 pixels of data for this part\n",
        "def gen_pos_data(x, y):\n",
        "    x_ = x.clone()\n",
        "    x_[:,0:10] = 0\n",
        "    if(type(y)==int):\n",
        "      for i in range(x.shape[0]):\n",
        "        x_ [i , y] = 1.0\n",
        "    else:\n",
        "      for i in range(x.shape[0]):\n",
        "        x_ [i , y[i]] = 1.0\n",
        "\n",
        "    return x_"
      ],
      "metadata": {
        "id": "WqSXyiIgZthe"
      },
      "execution_count": 16,
      "outputs": []
    },
    {
      "cell_type": "code",
      "source": [
        "# Generate negative data\n",
        "# We put random wrong label on first 10 pixels of data for this part\n",
        "def gen_neg_data(x,y):\n",
        "    x_ = x.clone()\n",
        "    x_[:,0:10] = 0\n",
        "    rand_idx = torch.randperm(x.size(0))\n",
        "    y_rand = y[rand_idx]\n",
        "    for i in range(x.shape[0]):\n",
        "      x_ [i , y_rand[i]] = 1.0\n",
        "    return x_"
      ],
      "metadata": {
        "id": "-mQ9XrPrwnGm"
      },
      "execution_count": 5,
      "outputs": []
    },
    {
      "cell_type": "markdown",
      "source": [
        "in this section we show an example what we did in generating positive and negative data from original data.\n",
        "As you can see, in positive data we put the right label in first 10 pixels, but in negative data we put another random label in these pixels."
      ],
      "metadata": {
        "id": "t245gBQWHL17"
      }
    },
    {
      "cell_type": "code",
      "source": [
        "train_loader, test_loader = MNIST_loaders()\n",
        "x, y = next(iter(train_loader))\n",
        "x_pos_sample = gen_pos_data(x, y)[0]\n",
        "x_neg_sample = gen_neg_data(x, y)[0]\n",
        "reshaped_org = x[0].cpu().reshape(28, 28)\n",
        "reshaped_pos = x_pos_sample.cpu().reshape(28, 28)\n",
        "reshaped_neg = x_neg_sample.cpu().reshape(28, 28)\n",
        "\n",
        "plt.figure(figsize = (4, 4))\n",
        "plt.title('original data')\n",
        "plt.imshow(reshaped_org, cmap=\"gray\")\n",
        "plt.show()\n",
        "\n",
        "plt.figure(figsize = (4, 4))\n",
        "plt.title('positive data')\n",
        "plt.imshow(reshaped_pos, cmap=\"gray\")\n",
        "plt.show()\n",
        "\n",
        "plt.figure(figsize = (4, 4))\n",
        "plt.title('negative data')\n",
        "plt.imshow(reshaped_neg, cmap=\"gray\")\n",
        "plt.show()"
      ],
      "metadata": {
        "colab": {
          "base_uri": "https://localhost:8080/",
          "height": 1000
        },
        "id": "dBLzLL5hHKim",
        "outputId": "702df6c7-36e6-461e-8d5c-dca39c1d251e"
      },
      "execution_count": 6,
      "outputs": [
        {
          "output_type": "stream",
          "name": "stdout",
          "text": [
            "Downloading http://yann.lecun.com/exdb/mnist/train-images-idx3-ubyte.gz\n",
            "Downloading http://yann.lecun.com/exdb/mnist/train-images-idx3-ubyte.gz to ./data/MNIST/raw/train-images-idx3-ubyte.gz\n"
          ]
        },
        {
          "output_type": "stream",
          "name": "stderr",
          "text": [
            "100%|██████████| 9912422/9912422 [00:00<00:00, 81771769.20it/s]\n"
          ]
        },
        {
          "output_type": "stream",
          "name": "stdout",
          "text": [
            "Extracting ./data/MNIST/raw/train-images-idx3-ubyte.gz to ./data/MNIST/raw\n",
            "\n",
            "Downloading http://yann.lecun.com/exdb/mnist/train-labels-idx1-ubyte.gz\n",
            "Downloading http://yann.lecun.com/exdb/mnist/train-labels-idx1-ubyte.gz to ./data/MNIST/raw/train-labels-idx1-ubyte.gz\n"
          ]
        },
        {
          "output_type": "stream",
          "name": "stderr",
          "text": [
            "100%|██████████| 28881/28881 [00:00<00:00, 38358357.77it/s]\n"
          ]
        },
        {
          "output_type": "stream",
          "name": "stdout",
          "text": [
            "Extracting ./data/MNIST/raw/train-labels-idx1-ubyte.gz to ./data/MNIST/raw\n",
            "\n",
            "Downloading http://yann.lecun.com/exdb/mnist/t10k-images-idx3-ubyte.gz\n",
            "Downloading http://yann.lecun.com/exdb/mnist/t10k-images-idx3-ubyte.gz to ./data/MNIST/raw/t10k-images-idx3-ubyte.gz\n"
          ]
        },
        {
          "output_type": "stream",
          "name": "stderr",
          "text": [
            "100%|██████████| 1648877/1648877 [00:00<00:00, 28001260.79it/s]\n"
          ]
        },
        {
          "output_type": "stream",
          "name": "stdout",
          "text": [
            "Extracting ./data/MNIST/raw/t10k-images-idx3-ubyte.gz to ./data/MNIST/raw\n",
            "\n",
            "Downloading http://yann.lecun.com/exdb/mnist/t10k-labels-idx1-ubyte.gz\n",
            "Downloading http://yann.lecun.com/exdb/mnist/t10k-labels-idx1-ubyte.gz to ./data/MNIST/raw/t10k-labels-idx1-ubyte.gz\n"
          ]
        },
        {
          "output_type": "stream",
          "name": "stderr",
          "text": [
            "100%|██████████| 4542/4542 [00:00<00:00, 16522574.82it/s]\n"
          ]
        },
        {
          "output_type": "stream",
          "name": "stdout",
          "text": [
            "Extracting ./data/MNIST/raw/t10k-labels-idx1-ubyte.gz to ./data/MNIST/raw\n",
            "\n"
          ]
        },
        {
          "output_type": "display_data",
          "data": {
            "text/plain": [
              "<Figure size 400x400 with 1 Axes>"
            ],
            "image/png": "[encoded data removed]"
          },
          "metadata": {}
        },
        {
          "output_type": "display_data",
          "data": {
            "text/plain": [
              "<Figure size 400x400 with 1 Axes>"
            ],
            "image/png": "[encoded data removed]"
          },
          "metadata": {}
        },
        {
          "output_type": "display_data",
          "data": {
            "text/plain": [
              "<Figure size 400x400 with 1 Axes>"
            ],
            "image/png": "[encoded data removed]"
          },
          "metadata": {}
        }
      ]
    },
    {
      "cell_type": "markdown",
      "source": [
        "Now we need to create FF_Net and FF_Layer classes to build the Network and implement the Forward-Forward algorithm."
      ],
      "metadata": {
        "id": "mWUSIfaOH5mY"
      }
    },
    {
      "cell_type": "code",
      "source": [
        "class FF_Net(torch.nn.Module):\n",
        "\n",
        "    def __init__(self, dims):\n",
        "        super().__init__()\n",
        "        self.layers = []\n",
        "        for d in range(len(dims) - 1):\n",
        "            self.layers += [FF_Layer(dims[d], dims[d + 1]).cuda()]\n",
        "\n",
        "    def predict(self, x):\n",
        "        goodness_per_label = []\n",
        "        for label in range(10):\n",
        "            h = gen_pos_data(x, label)\n",
        "            goodness = []\n",
        "            for layer in self.layers:\n",
        "                h = layer(h)\n",
        "                goodness.append(h.pow(2).mean(1))\n",
        "            goodness_per_label.append(sum(goodness).unsqueeze(1))\n",
        "        goodness_per_label = torch.cat(goodness_per_label, 1)\n",
        "        return goodness_per_label.argmax(1)\n",
        "\n",
        "    def train(self, x_pos, x_neg):\n",
        "        h_pos, h_neg = x_pos, x_neg\n",
        "        for i, layer in enumerate(self.layers):\n",
        "            print('training layer', i, '...')\n",
        "            h_pos, h_neg = layer.train(h_pos, h_neg)\n"
      ],
      "metadata": {
        "id": "STnJvm3WZxn_"
      },
      "execution_count": 7,
      "outputs": []
    },
    {
      "cell_type": "markdown",
      "source": [
        "in this part we have two important function, the first one is forward in which we perform forward pass of layer. we used relu as activation function. second function is train, in this function firstly we derived goodness of positive and negative data, then we used a custom loss function as mentioned in question.\n",
        "**this loss function is suitable for this algorithm because \"the aim of the learning is to make the goodness be well above some thereshold value for real data and well below that value for negative data\".** with minimizing this loss function we can reach this goal.\n",
        "in the last part, with using of gradient decent we updated the parameters in a way that minimizing loss function of this layer it self."
      ],
      "metadata": {
        "id": "zBXCyTEIL3kb"
      }
    },
    {
      "cell_type": "code",
      "source": [
        "class FF_Layer(nn.Linear):\n",
        "    def __init__(self, in_features, out_features,\n",
        "                 bias=True, device=None, dtype=None):\n",
        "        super().__init__(in_features, out_features, bias, device, dtype)\n",
        "        self.relu = torch.nn.ReLU()\n",
        "        self.opt = Adam(self.parameters(), lr=0.03)\n",
        "        self.threshold = 2.0\n",
        "        self.num_epochs = 1000\n",
        "\n",
        "    def forward(self, x):\n",
        "        x_direction = x / (x.norm(2, 1, keepdim=True) + 1e-4)\n",
        "        return self.relu(torch.mm(x_direction, self.weight.T) + self.bias.unsqueeze(0))\n",
        "\n",
        "    def train(self, x_pos, x_neg):\n",
        "        for i in tqdm(range(self.num_epochs)):\n",
        "            # Find goodness of positive and negative data\n",
        "            g_pos = self.forward(x_pos).pow(2).mean(1)\n",
        "            g_neg = self.forward(x_neg).pow(2).mean(1)\n",
        "            # Compute Loss function\n",
        "            loss = torch.log(1 + torch.exp(torch.cat([-g_pos + self.threshold, g_neg - self.threshold]))).mean()\n",
        "            self.opt.zero_grad()\n",
        "            loss.backward()\n",
        "            self.opt.step()\n",
        "        return self.forward(x_pos).detach(), self.forward(x_neg).detach()"
      ],
      "metadata": {
        "id": "28OjaoqJaBaN"
      },
      "execution_count": 8,
      "outputs": []
    },
    {
      "cell_type": "code",
      "source": [
        "torch.manual_seed(23)\n",
        "train_loader, test_loader = MNIST_loaders()\n",
        "\n",
        "net = FF_Net([784, 500, 500])\n",
        "x, y = next(iter(train_loader))\n",
        "x, y = x.cuda(), y.cuda()\n",
        "x_pos = gen_pos_data(x, y)\n",
        "x_neg = gen_neg_data(x, y)\n",
        "\n",
        "\n",
        "net.train(x_pos, x_neg)\n",
        "\n",
        "print('train error:', 1.0 - net.predict(x).eq(y).float().mean().item())\n",
        "\n",
        "x_te, y_te = next(iter(test_loader))\n",
        "x_te, y_te = x_te.cuda(), y_te.cuda()\n",
        "\n",
        "print('test error:', 1.0 - net.predict(x_te).eq(y_te).float().mean().item())"
      ],
      "metadata": {
        "colab": {
          "base_uri": "https://localhost:8080/"
        },
        "id": "2PTDW83maCk7",
        "outputId": "66c567fe-d7d0-4637-cffe-7506dffd3494"
      },
      "execution_count": 17,
      "outputs": [
        {
          "output_type": "stream",
          "name": "stdout",
          "text": [
            "training layer 0 ...\n"
          ]
        },
        {
          "output_type": "stream",
          "name": "stderr",
          "text": [
            "100%|██████████| 1000/1000 [00:56<00:00, 17.58it/s]\n"
          ]
        },
        {
          "output_type": "stream",
          "name": "stdout",
          "text": [
            "training layer 1 ...\n"
          ]
        },
        {
          "output_type": "stream",
          "name": "stderr",
          "text": [
            "100%|██████████| 1000/1000 [00:39<00:00, 25.09it/s]\n"
          ]
        },
        {
          "output_type": "stream",
          "name": "stdout",
          "text": [
            "train error: 0.08062005043029785\n",
            "test error: 0.08140003681182861\n"
          ]
        }
      ]
    }
  ]
}